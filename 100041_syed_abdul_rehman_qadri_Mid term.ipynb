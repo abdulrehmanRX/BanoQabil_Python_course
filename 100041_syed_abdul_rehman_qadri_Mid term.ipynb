{
 "cells": [
  {
   "cell_type": "code",
   "execution_count": null,
   "id": "844d7ef9-205d-4ff6-82fc-ad769cc79121",
   "metadata": {},
   "outputs": [],
   "source": [
    "# Answer 1"
   ]
  },
  {
   "cell_type": "code",
   "execution_count": 5,
   "id": "a6928991-76ab-447f-ab66-e01347671477",
   "metadata": {},
   "outputs": [
    {
     "name": "stdin",
     "output_type": "stream",
     "text": [
      "enter the first number for addition 5\n",
      "enter the second number for addition 6\n"
     ]
    },
    {
     "name": "stdout",
     "output_type": "stream",
     "text": [
      "5.0 + 6.0 = 11.0\n"
     ]
    },
    {
     "name": "stdin",
     "output_type": "stream",
     "text": [
      "Enter the dividend for division 25\n",
      "Enter the divisor for division 5\n"
     ]
    },
    {
     "name": "stdout",
     "output_type": "stream",
     "text": [
      "division: 25.0 / 5.0 = 5.0\n"
     ]
    }
   ],
   "source": [
    "add = float(input(\"enter the first number for addition\"))\n",
    "add2 = float(input(\"enter the second number for addition\"))\n",
    "adi  = add+add2\n",
    "print(add,\"+\",add2,\"=\",adi)\n",
    "div = float(input(\"Enter the dividend for division\"))\n",
    "div2 = float(input(\"Enter the divisor for division\"))\n",
    "divi = div/div2\n",
    "print(\"division:\",div,\"/\",div2,\"=\",divi)\n"
   ]
  },
  {
   "cell_type": "code",
   "execution_count": null,
   "id": "71ecf3c0-75fe-4ae1-90da-714a819fa18f",
   "metadata": {},
   "outputs": [],
   "source": [
    "# Answer 2"
   ]
  },
  {
   "cell_type": "code",
   "execution_count": 6,
   "id": "9695774c-eff1-4da6-89b4-669275271ebc",
   "metadata": {},
   "outputs": [
    {
     "name": "stdin",
     "output_type": "stream",
     "text": [
      "Enter the length of base of triangle 10\n",
      "Enter the height of the triangle 15\n"
     ]
    },
    {
     "name": "stdout",
     "output_type": "stream",
     "text": [
      "the area of triangle is : 75.0\n"
     ]
    }
   ],
   "source": [
    "tri = float(input(\"Enter the length of base of triangle\"))\n",
    "tri2 = float(input(\"Enter the height of the triangle\"))\n",
    "area = tri*tri2/2\n",
    "print(\"the area of triangle is :\",area)"
   ]
  },
  {
   "cell_type": "code",
   "execution_count": null,
   "id": "85f661f7-f9e2-4e5a-acbe-99f93ec624b9",
   "metadata": {},
   "outputs": [],
   "source": [
    "# Answer 3"
   ]
  },
  {
   "cell_type": "code",
   "execution_count": 9,
   "id": "27a3535f-21fc-4fdd-9dd1-994c54e01351",
   "metadata": {},
   "outputs": [
    {
     "name": "stdin",
     "output_type": "stream",
     "text": [
      "enter temperature in celsius 37\n"
     ]
    },
    {
     "name": "stdout",
     "output_type": "stream",
     "text": [
      "37.0 degree Celsius is equal to 98.60000000000001 degree fahrenheit\n"
     ]
    }
   ],
   "source": [
    "tem = float(input(\"enter temperature in celsius\"))\n",
    "fin = (9/5*tem)+32\n",
    "print(tem,\"degree Celsius is equal to\",fin,\"degree fahrenheit\")"
   ]
  },
  {
   "cell_type": "code",
   "execution_count": null,
   "id": "28539c8d-7a47-425e-bdcd-7b5fd114ac89",
   "metadata": {},
   "outputs": [],
   "source": [
    "# Answer 4"
   ]
  },
  {
   "cell_type": "code",
   "execution_count": 19,
   "id": "434862f5-491d-4efe-b4b7-373d4cd2281e",
   "metadata": {},
   "outputs": [
    {
     "name": "stdin",
     "output_type": "stream",
     "text": [
      "give me number 11\n",
      "give me string value \"hello\"\n"
     ]
    },
    {
     "name": "stdout",
     "output_type": "stream",
     "text": [
      "the data type of 11 is <class 'int'>\n",
      "the data type of 10.0 is <class 'float'>\n",
      "the data type of \"hello\" is <class 'str'>\n",
      "the data type of True is <class 'bool'>\n"
     ]
    }
   ],
   "source": [
    "integer = int(input(\"give me number\"))\n",
    "string = str(input(\"give me string value\"))\n",
    "print(\"the data type of\",integer,\"is\",type(integer))\n",
    "print(\"the data type of\",tri,\"is\",type(tri))\n",
    "print(\"the data type of\",string,\"is\",type(string))\n",
    "bool=True\n",
    "print(\"the data type of\",bool,\"is\",type(bool))\n",
    "\n"
   ]
  },
  {
   "cell_type": "code",
   "execution_count": null,
   "id": "143cddc9-f9e5-4c3e-92da-c886a43c56ba",
   "metadata": {},
   "outputs": [],
   "source": []
  }
 ],
 "metadata": {
  "kernelspec": {
   "display_name": "Python 3 (ipykernel)",
   "language": "python",
   "name": "python3"
  },
  "language_info": {
   "codemirror_mode": {
    "name": "ipython",
    "version": 3
   },
   "file_extension": ".py",
   "mimetype": "text/x-python",
   "name": "python",
   "nbconvert_exporter": "python",
   "pygments_lexer": "ipython3",
   "version": "3.10.10"
  }
 },
 "nbformat": 4,
 "nbformat_minor": 5
}
